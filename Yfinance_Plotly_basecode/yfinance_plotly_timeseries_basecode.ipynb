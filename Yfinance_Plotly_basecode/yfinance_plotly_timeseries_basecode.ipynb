{
  "nbformat": 4,
  "nbformat_minor": 0,
  "metadata": {
    "colab": {
      "provenance": [],
      "authorship_tag": "ABX9TyNhvcysDewbumLPClqtNxQ+",
      "include_colab_link": true
    },
    "kernelspec": {
      "name": "python3",
      "display_name": "Python 3"
    },
    "language_info": {
      "name": "python"
    }
  },
  "cells": [
    {
      "cell_type": "markdown",
      "metadata": {
        "id": "view-in-github",
        "colab_type": "text"
      },
      "source": [
        "<a href=\"https://colab.research.google.com/github/SenolIsci/TimeSeries/blob/main/yfinance_plotly_timeseries_basecode\" target=\"_parent\"><img src=\"https://colab.research.google.com/assets/colab-badge.svg\" alt=\"Open In Colab\"/></a>"
      ]
    },
    {
      "cell_type": "code",
      "execution_count": null,
      "metadata": {
        "id": "-44N2Ch0GVsi"
      },
      "outputs": [],
      "source": [
        "!pip install yfinance\n",
        "\n",
        "\n",
        "# Raw Package\n",
        "import numpy as np\n",
        "import pandas as pd\n",
        "\n",
        "#Data Source\n",
        "import yfinance as yf\n",
        "\n",
        "#Data viz\n",
        "import plotly.graph_objs as go\n",
        "\n",
        "# Get Bitcoin data\n",
        "data = yf.download(tickers='BTC-USD', period = '5y', interval = '1d')\n",
        "dataclose=data[\"Close\"]\n",
        "dataclose.to_csv(\"dataclose.csv\")\n",
        "\n",
        "#declare figure\n",
        "fig = go.Figure()\n",
        "\n",
        "#Candlestick\n",
        "fig.add_trace(go.Candlestick(x=data.index,\n",
        "                open=data['Open'],\n",
        "                high=data['High'],\n",
        "                low=data['Low'],\n",
        "                close=data['Close'], name = 'market data'))\n",
        "\n",
        "# Add titles\n",
        "fig.update_layout(\n",
        "    title='Bitcoin live share price evolution',\n",
        "    yaxis_title='Bitcoin Price (kUS Dollars)')\n",
        "\n",
        "# X-Axes\n",
        "fig.update_xaxes(\n",
        "    rangeslider_visible=True,\n",
        "    rangeselector=dict(\n",
        "        buttons=list([\n",
        "            dict(count=15, label=\"15m\", step=\"minute\", stepmode=\"backward\"),\n",
        "            dict(count=45, label=\"45m\", step=\"minute\", stepmode=\"backward\"),\n",
        "            dict(count=1, label=\"HTD\", step=\"hour\", stepmode=\"todate\"),\n",
        "            dict(count=6, label=\"6h\", step=\"hour\", stepmode=\"backward\"),\n",
        "            dict(step=\"all\")\n",
        "        ])\n",
        "    )\n",
        ")\n",
        "\n",
        "#Show\n",
        "fig.show()"
      ]
    }
  ]
}